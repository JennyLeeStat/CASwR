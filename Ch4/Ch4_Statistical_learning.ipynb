{
 "cells": [
  {
   "cell_type": "markdown",
   "metadata": {},
   "source": [
    "# Ch 4. Statistical Learning\n",
    "\n",
    "We will use a set of exploratory features in consumer cefit files and develop a credit scoring rule to predict whether the loaner will be considered a good or bad client. \n",
    "\n",
    "## 1. Data Preparation"
   ]
  },
  {
   "cell_type": "markdown",
   "metadata": {},
   "source": [
    "This dataset is from Dr. Hans Hofmann of the University of Hamburg. (source: UCI Machine Learning Repository). "
   ]
  },
  {
   "cell_type": "code",
   "execution_count": 175,
   "metadata": {
    "collapsed": false
   },
   "outputs": [],
   "source": [
    "# importing modules to be used \n",
    "import numpy as np\n",
    "import pandas as pd\n",
    "import scipy.stats as stats\n",
    "from sklearn.preprocessing import LabelEncoder, MinMaxScaler\n",
    "from sklearn.model_selection import train_test_split\n",
    "\n",
    "import matplotlib.pyplot as plt\n",
    "import seaborn as sns\n",
    "from IPython.display import display, Image\n",
    "from __future__ import division\n",
    "\n",
    "%matplotlib inline\n"
   ]
  },
  {
   "cell_type": "code",
   "execution_count": 135,
   "metadata": {
    "collapsed": false
   },
   "outputs": [
    {
     "data": {
      "text/html": [
       "<div>\n",
       "<table border=\"1\" class=\"dataframe\">\n",
       "  <thead>\n",
       "    <tr style=\"text-align: right;\">\n",
       "      <th></th>\n",
       "      <th>checking_status</th>\n",
       "      <th>duration</th>\n",
       "      <th>credit_history</th>\n",
       "      <th>purpose</th>\n",
       "      <th>credit_amount</th>\n",
       "      <th>savings</th>\n",
       "      <th>employment</th>\n",
       "      <th>installment_rate</th>\n",
       "      <th>personal_status</th>\n",
       "      <th>other_parties</th>\n",
       "      <th>...</th>\n",
       "      <th>property_magnitude</th>\n",
       "      <th>age</th>\n",
       "      <th>other_payment_plans</th>\n",
       "      <th>housing</th>\n",
       "      <th>existing_credits</th>\n",
       "      <th>job</th>\n",
       "      <th>num_dependents</th>\n",
       "      <th>telephone</th>\n",
       "      <th>foreign_workder</th>\n",
       "      <th>class</th>\n",
       "    </tr>\n",
       "  </thead>\n",
       "  <tbody>\n",
       "    <tr>\n",
       "      <th>0</th>\n",
       "      <td>A11</td>\n",
       "      <td>6</td>\n",
       "      <td>A34</td>\n",
       "      <td>A43</td>\n",
       "      <td>1169</td>\n",
       "      <td>A65</td>\n",
       "      <td>A75</td>\n",
       "      <td>4</td>\n",
       "      <td>A93</td>\n",
       "      <td>A101</td>\n",
       "      <td>...</td>\n",
       "      <td>A121</td>\n",
       "      <td>67</td>\n",
       "      <td>A143</td>\n",
       "      <td>A152</td>\n",
       "      <td>2</td>\n",
       "      <td>A173</td>\n",
       "      <td>1</td>\n",
       "      <td>A192</td>\n",
       "      <td>A201</td>\n",
       "      <td>1</td>\n",
       "    </tr>\n",
       "    <tr>\n",
       "      <th>1</th>\n",
       "      <td>A12</td>\n",
       "      <td>48</td>\n",
       "      <td>A32</td>\n",
       "      <td>A43</td>\n",
       "      <td>5951</td>\n",
       "      <td>A61</td>\n",
       "      <td>A73</td>\n",
       "      <td>2</td>\n",
       "      <td>A92</td>\n",
       "      <td>A101</td>\n",
       "      <td>...</td>\n",
       "      <td>A121</td>\n",
       "      <td>22</td>\n",
       "      <td>A143</td>\n",
       "      <td>A152</td>\n",
       "      <td>1</td>\n",
       "      <td>A173</td>\n",
       "      <td>1</td>\n",
       "      <td>A191</td>\n",
       "      <td>A201</td>\n",
       "      <td>2</td>\n",
       "    </tr>\n",
       "    <tr>\n",
       "      <th>2</th>\n",
       "      <td>A14</td>\n",
       "      <td>12</td>\n",
       "      <td>A34</td>\n",
       "      <td>A46</td>\n",
       "      <td>2096</td>\n",
       "      <td>A61</td>\n",
       "      <td>A74</td>\n",
       "      <td>2</td>\n",
       "      <td>A93</td>\n",
       "      <td>A101</td>\n",
       "      <td>...</td>\n",
       "      <td>A121</td>\n",
       "      <td>49</td>\n",
       "      <td>A143</td>\n",
       "      <td>A152</td>\n",
       "      <td>1</td>\n",
       "      <td>A172</td>\n",
       "      <td>2</td>\n",
       "      <td>A191</td>\n",
       "      <td>A201</td>\n",
       "      <td>1</td>\n",
       "    </tr>\n",
       "    <tr>\n",
       "      <th>3</th>\n",
       "      <td>A11</td>\n",
       "      <td>42</td>\n",
       "      <td>A32</td>\n",
       "      <td>A42</td>\n",
       "      <td>7882</td>\n",
       "      <td>A61</td>\n",
       "      <td>A74</td>\n",
       "      <td>2</td>\n",
       "      <td>A93</td>\n",
       "      <td>A103</td>\n",
       "      <td>...</td>\n",
       "      <td>A122</td>\n",
       "      <td>45</td>\n",
       "      <td>A143</td>\n",
       "      <td>A153</td>\n",
       "      <td>1</td>\n",
       "      <td>A173</td>\n",
       "      <td>2</td>\n",
       "      <td>A191</td>\n",
       "      <td>A201</td>\n",
       "      <td>1</td>\n",
       "    </tr>\n",
       "    <tr>\n",
       "      <th>4</th>\n",
       "      <td>A11</td>\n",
       "      <td>24</td>\n",
       "      <td>A33</td>\n",
       "      <td>A40</td>\n",
       "      <td>4870</td>\n",
       "      <td>A61</td>\n",
       "      <td>A73</td>\n",
       "      <td>3</td>\n",
       "      <td>A93</td>\n",
       "      <td>A101</td>\n",
       "      <td>...</td>\n",
       "      <td>A124</td>\n",
       "      <td>53</td>\n",
       "      <td>A143</td>\n",
       "      <td>A153</td>\n",
       "      <td>2</td>\n",
       "      <td>A173</td>\n",
       "      <td>2</td>\n",
       "      <td>A191</td>\n",
       "      <td>A201</td>\n",
       "      <td>2</td>\n",
       "    </tr>\n",
       "  </tbody>\n",
       "</table>\n",
       "<p>5 rows × 21 columns</p>\n",
       "</div>"
      ],
      "text/plain": [
       "  checking_status  duration credit_history purpose  credit_amount savings  \\\n",
       "0             A11         6            A34     A43           1169     A65   \n",
       "1             A12        48            A32     A43           5951     A61   \n",
       "2             A14        12            A34     A46           2096     A61   \n",
       "3             A11        42            A32     A42           7882     A61   \n",
       "4             A11        24            A33     A40           4870     A61   \n",
       "\n",
       "  employment  installment_rate personal_status other_parties  ...   \\\n",
       "0        A75                 4             A93          A101  ...    \n",
       "1        A73                 2             A92          A101  ...    \n",
       "2        A74                 2             A93          A101  ...    \n",
       "3        A74                 2             A93          A103  ...    \n",
       "4        A73                 3             A93          A101  ...    \n",
       "\n",
       "   property_magnitude age  other_payment_plans housing existing_credits   job  \\\n",
       "0                A121  67                 A143    A152                2  A173   \n",
       "1                A121  22                 A143    A152                1  A173   \n",
       "2                A121  49                 A143    A152                1  A172   \n",
       "3                A122  45                 A143    A153                1  A173   \n",
       "4                A124  53                 A143    A153                2  A173   \n",
       "\n",
       "  num_dependents  telephone foreign_workder class  \n",
       "0              1       A192            A201     1  \n",
       "1              1       A191            A201     2  \n",
       "2              2       A191            A201     1  \n",
       "3              2       A191            A201     1  \n",
       "4              2       A191            A201     2  \n",
       "\n",
       "[5 rows x 21 columns]"
      ]
     },
     "metadata": {},
     "output_type": "display_data"
    }
   ],
   "source": [
    "credit = pd.read_table(\"Data/german.data.txt\", \\\n",
    "                       delim_whitespace = True,\n",
    "                       header = None)\n",
    "\n",
    "colnames = [\"checking_status\", \"duration\", \"credit_history\", \"purpose\", \"credit_amount\",\\\n",
    "           \"savings\", \"employment\", \"installment_rate\", \"personal_status\", \"other_parties\",\\\n",
    "           \"residence_since\", \"property_magnitude\", \"age\", \"other_payment_plans\", \"housing\", \\\n",
    "           \"existing_credits\", \"job\", \"num_dependents\", \"telephone\", \"foreign_workder\", \n",
    "           \"class\"]\n",
    "\n",
    "credit.columns = colnames\n",
    "display(credit.head())"
   ]
  },
  {
   "cell_type": "code",
   "execution_count": 136,
   "metadata": {
    "collapsed": false
   },
   "outputs": [
    {
     "name": "stdout",
     "output_type": "stream",
     "text": [
      "\n",
      "Total number of records: 1000\n",
      "Individuals credit-worthy: 700\n",
      "Individuals not credit-worthy: 300\n",
      "Percentage of credit-worthy clients: 70.00%\n"
     ]
    }
   ],
   "source": [
    "n_records = credit.shape[0]\n",
    "\n",
    "n_good = sum(credit['class'] == 1)\n",
    "n_bad = sum(credit['class'] == 2)\n",
    "greater_percent = (n_good / n_records) * 100\n",
    "\n",
    "# Print the results\n",
    "print \"\"\n",
    "print \"Total number of records: {}\".format(n_records)\n",
    "print \"Individuals credit-worthy: {}\".format(n_good)\n",
    "print \"Individuals not credit-worthy: {}\".format(n_bad)\n",
    "print \"Percentage of credit-worthy clients: {:.2f}%\".format(greater_percent)"
   ]
  },
  {
   "cell_type": "code",
   "execution_count": 137,
   "metadata": {
    "collapsed": false
   },
   "outputs": [],
   "source": [
    "# Re-encoding outcome variable. Good : 0, Bad: 1\n",
    "y = credit['class'] - 1\n",
    "\n",
    "# Splitting data into features and target label \n",
    "X = credit.drop('class', axis = 1)"
   ]
  },
  {
   "cell_type": "markdown",
   "metadata": {},
   "source": [
    "## 2. Exploratory Data Analysis\n",
    "###  1) Factor variables - Cramer's V\n",
    "\n",
    "** Cramer's V **(1946) measures the correlation between categorical variates. \n",
    "\n",
    "$$ V = \\sqrt{\\frac{\\chi ^2}{n(k - 1)}} $$\n",
    "\n",
    "where chi^2 is the statistics of Pearson;s chi-squared test of independencies, `n` is the number of samples and `k` is the number of unique classes for the two variables, whichever less. In our case, `k - 1` is equal to 1 because we have two classes in  output variable. While most of the features are categorical, we have three continuous features, duration, age, and credit amount. For the moment, we are arbitrarly categorizing these countinous features only for the sake of exploratory analysis. "
   ]
  },
  {
   "cell_type": "code",
   "execution_count": 159,
   "metadata": {
    "collapsed": false
   },
   "outputs": [],
   "source": [
    "credit.f = X.copy()\n",
    "cont = [\"duration\", \"age\", \"credit_amount\"]\n",
    "\n"
   ]
  },
  {
   "cell_type": "code",
   "execution_count": 139,
   "metadata": {
    "collapsed": false
   },
   "outputs": [],
   "source": [
    "# 10 break points for each cont vars\n",
    "breakpoints = credit.f[cont].quantile(np.linspace(0.0, 1.0, num = 10))\n",
    "\n",
    "for v in cont:\n",
    "    credit.f[v] = pd.cut(credit.f[v], bins=breakpoints[v].unique())\n",
    "    #print \" \"\n",
    "    #print v, \": counts\"\n",
    "    #print pd.value_counts(credit.f[v], sort=False)\n"
   ]
  },
  {
   "cell_type": "code",
   "execution_count": 151,
   "metadata": {
    "collapsed": false
   },
   "outputs": [],
   "source": [
    "feature_names = list(credit.f.columns)\n",
    "cramer_v = np.zeros(len(feature_names))\n",
    "\n",
    "\n",
    "for i, _ in enumerate(feature_names):\n",
    "    cont = pd.crosstab(credit.f.iloc[:, i], y)\n",
    "    cramer_v[i] = np.sqrt(stats.chi2_contingency(cont)[0] * .001)\n",
    "    \n",
    "cramer_v = pd.Series(cramer_v, index = feature_names)"
   ]
  },
  {
   "cell_type": "code",
   "execution_count": 158,
   "metadata": {
    "collapsed": false
   },
   "outputs": [
    {
     "data": {
      "text/plain": [
       "<matplotlib.text.Text at 0x1183bc8d0>"
      ]
     },
     "execution_count": 158,
     "metadata": {},
     "output_type": "execute_result"
    },
    {
     "data": {
      "image/png": "[encoded data removed]",
      "text/plain": [
       "<matplotlib.figure.Figure at 0x119c82c50>"
      ]
     },
     "metadata": {},
     "output_type": "display_data"
    }
   ],
   "source": [
    "plt.style.use('ggplot')\n",
    "cramer_v_sorted = cramer_v.sort_values(ascending = False)\n",
    "\n",
    "plt.figure()\n",
    "cramer_v_sorted.plot(kind = \"bar\")\n",
    "plt.title(\"Cramer's V\")\n"
   ]
  },
  {
   "cell_type": "markdown",
   "metadata": {},
   "source": [
    "The sorted Cramer's V values for 20 features are shown above. It appears that the amount in existing checking account, credit history, and credit duration are highly associated with the ouptut label. \n",
    "  "
   ]
  },
  {
   "cell_type": "markdown",
   "metadata": {},
   "source": [
    "# 3. Data Preprocessing \n",
    "\n",
    "## 1) Normalizaing numberical features"
   ]
  },
  {
   "cell_type": "code",
   "execution_count": 177,
   "metadata": {
    "collapsed": false
   },
   "outputs": [
    {
     "data": {
      "text/html": [
       "<div>\n",
       "<table border=\"1\" class=\"dataframe\">\n",
       "  <thead>\n",
       "    <tr style=\"text-align: right;\">\n",
       "      <th></th>\n",
       "      <th>duration</th>\n",
       "      <th>age</th>\n",
       "      <th>credit_amount</th>\n",
       "    </tr>\n",
       "  </thead>\n",
       "  <tbody>\n",
       "    <tr>\n",
       "      <th>count</th>\n",
       "      <td>1000.000000</td>\n",
       "      <td>1000.000000</td>\n",
       "      <td>1000.000000</td>\n",
       "    </tr>\n",
       "    <tr>\n",
       "      <th>mean</th>\n",
       "      <td>0.248574</td>\n",
       "      <td>0.295464</td>\n",
       "      <td>0.166241</td>\n",
       "    </tr>\n",
       "    <tr>\n",
       "      <th>std</th>\n",
       "      <td>0.177336</td>\n",
       "      <td>0.203133</td>\n",
       "      <td>0.155317</td>\n",
       "    </tr>\n",
       "    <tr>\n",
       "      <th>min</th>\n",
       "      <td>0.000000</td>\n",
       "      <td>0.000000</td>\n",
       "      <td>0.000000</td>\n",
       "    </tr>\n",
       "    <tr>\n",
       "      <th>25%</th>\n",
       "      <td>0.117647</td>\n",
       "      <td>0.142857</td>\n",
       "      <td>0.061379</td>\n",
       "    </tr>\n",
       "    <tr>\n",
       "      <th>50%</th>\n",
       "      <td>0.205882</td>\n",
       "      <td>0.250000</td>\n",
       "      <td>0.113871</td>\n",
       "    </tr>\n",
       "    <tr>\n",
       "      <th>75%</th>\n",
       "      <td>0.294118</td>\n",
       "      <td>0.410714</td>\n",
       "      <td>0.204812</td>\n",
       "    </tr>\n",
       "    <tr>\n",
       "      <th>max</th>\n",
       "      <td>1.000000</td>\n",
       "      <td>1.000000</td>\n",
       "      <td>1.000000</td>\n",
       "    </tr>\n",
       "  </tbody>\n",
       "</table>\n",
       "</div>"
      ],
      "text/plain": [
       "          duration          age  credit_amount\n",
       "count  1000.000000  1000.000000    1000.000000\n",
       "mean      0.248574     0.295464       0.166241\n",
       "std       0.177336     0.203133       0.155317\n",
       "min       0.000000     0.000000       0.000000\n",
       "25%       0.117647     0.142857       0.061379\n",
       "50%       0.205882     0.250000       0.113871\n",
       "75%       0.294118     0.410714       0.204812\n",
       "max       1.000000     1.000000       1.000000"
      ]
     },
     "metadata": {},
     "output_type": "display_data"
    }
   ],
   "source": [
    "scaler = MinMaxScaler()\n",
    "X[cont] = scaler.fit_transform(X[cont])\n",
    "display(X[cont].describe())"
   ]
  },
  {
   "cell_type": "code",
   "execution_count": 178,
   "metadata": {
    "collapsed": false
   },
   "outputs": [
    {
     "name": "stdout",
     "output_type": "stream",
     "text": [
      "61 total features after one-hot encoding.\n",
      "['duration', 'credit_amount', 'installment_rate', 'residence_since', 'age', 'existing_credits', 'num_dependents', 'checking_status_A11', 'checking_status_A12', 'checking_status_A13', 'checking_status_A14', 'credit_history_A30', 'credit_history_A31', 'credit_history_A32', 'credit_history_A33', 'credit_history_A34', 'purpose_A40', 'purpose_A41', 'purpose_A410', 'purpose_A42', 'purpose_A43', 'purpose_A44', 'purpose_A45', 'purpose_A46', 'purpose_A48', 'purpose_A49', 'savings_A61', 'savings_A62', 'savings_A63', 'savings_A64', 'savings_A65', 'employment_A71', 'employment_A72', 'employment_A73', 'employment_A74', 'employment_A75', 'personal_status_A91', 'personal_status_A92', 'personal_status_A93', 'personal_status_A94', 'other_parties_A101', 'other_parties_A102', 'other_parties_A103', 'property_magnitude_A121', 'property_magnitude_A122', 'property_magnitude_A123', 'property_magnitude_A124', 'other_payment_plans_A141', 'other_payment_plans_A142', 'other_payment_plans_A143', 'housing_A151', 'housing_A152', 'housing_A153', 'job_A171', 'job_A172', 'job_A173', 'job_A174', 'telephone_A191', 'telephone_A192', 'foreign_workder_A201', 'foreign_workder_A202']\n"
     ]
    }
   ],
   "source": [
    "features = pd.get_dummies(X)\n",
    "one_hot_encoded = list(features.columns)\n",
    "\n",
    "print \"{} total features after one-hot encoding.\".format(len(one_hot_encoded))\n",
    "\n",
    "print one_hot_encoded"
   ]
  },
  {
   "cell_type": "markdown",
   "metadata": {},
   "source": [
    "## 2) Shuffle and split data\n"
   ]
  },
  {
   "cell_type": "code",
   "execution_count": 179,
   "metadata": {
    "collapsed": false
   },
   "outputs": [
    {
     "name": "stdout",
     "output_type": "stream",
     "text": [
      "Training set has 800 samples.\n",
      "Testing set has 200 samples.\n"
     ]
    }
   ],
   "source": [
    "# Split the 'features' and 'income' data into training and testing sets\n",
    "X_train, X_test, y_train, y_test = train_test_split(features, y,\\\n",
    "                                                    test_size = 0.2, \n",
    "                                                    random_state = 42)\n",
    "\n",
    "# Show the results of the split\n",
    "print \"Training set has {} samples.\".format(X_train.shape[0])\n",
    "print \"Testing set has {} samples.\".format(X_test.shape[0])\n",
    "\n"
   ]
  },
  {
   "cell_type": "markdown",
   "metadata": {},
   "source": [
    "# 4. Logistic Regression \n",
    "\n",
    "Logistic regression is now the most widely used method in credit scoring. "
   ]
  },
  {
   "cell_type": "code",
   "execution_count": null,
   "metadata": {
    "collapsed": true
   },
   "outputs": [],
   "source": []
  },
  {
   "cell_type": "code",
   "execution_count": null,
   "metadata": {
    "collapsed": true
   },
   "outputs": [],
   "source": []
  },
  {
   "cell_type": "code",
   "execution_count": null,
   "metadata": {
    "collapsed": true
   },
   "outputs": [],
   "source": []
  },
  {
   "cell_type": "code",
   "execution_count": null,
   "metadata": {
    "collapsed": true
   },
   "outputs": [],
   "source": []
  },
  {
   "cell_type": "code",
   "execution_count": null,
   "metadata": {
    "collapsed": true
   },
   "outputs": [],
   "source": []
  }
 ],
 "metadata": {
  "anaconda-cloud": {},
  "kernelspec": {
   "display_name": "Python [conda root]",
   "language": "python",
   "name": "conda-root-py"
  },
  "language_info": {
   "codemirror_mode": {
    "name": "ipython",
    "version": 2
   },
   "file_extension": ".py",
   "mimetype": "text/x-python",
   "name": "python",
   "nbconvert_exporter": "python",
   "pygments_lexer": "ipython2",
   "version": "2.7.12"
  }
 },
 "nbformat": 4,
 "nbformat_minor": 1
}
